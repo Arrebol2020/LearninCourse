{
 "cells": [
  {
   "cell_type": "code",
   "execution_count": 2,
   "metadata": {},
   "outputs": [],
   "source": [
    "import cv2  # openvv 读取的格式是BGR\n",
    "import matplotlib.pyplot as plt\n",
    "import numpy as np\n",
    "# 当调用 matplotlib.pyplot 的绘图函数 plot() 进行绘图的时候，或者生成一个 figure 画布的时候，可以直接在你的 python console 里面生成图像\n",
    "%matplotlib inline  "
   ]
  },
  {
   "cell_type": "code",
   "execution_count": 4,
   "metadata": {},
   "outputs": [],
   "source": [
    "# 可以定义一个方法专门用于显示图像\n",
    "def cv_show(name, img):\n",
    "    '''\n",
    "    :param name: 窗口名字\n",
    "    :param img: 显示的图像\n",
    "    '''\n",
    "    cv2.imshow(name, img)\n",
    "    cv2.waitKey(0)\n",
    "    cv2.destroyAllWindows()"
   ]
  },
  {
   "cell_type": "markdown",
   "metadata": {},
   "source": [
    "## Canny边缘检测\n",
    "- 使用高斯滤波器，平滑图像，消除噪声\n",
    "- 计算图像中每个像素点的梯度强度和方向\n",
    "- 应用非极大值(Non-Maximum Suppression)抑制，以消除边缘检测带来的杂散响应\n",
    "- 应用双阈值(Double-Threshold)检测来确定真实的和潜在的边缘\n",
    "- 通过抑制孤立的弱边缘最终完成边缘检测"
   ]
  },
  {
   "cell_type": "markdown",
   "metadata": {},
   "source": [
    "1.高斯滤波器\n",
    "![title](./data/canny_1.png)\n",
    "\n",
    "2.梯度和方向\n",
    "![title](./data/canny_2.png)\n",
    "\n",
    "3.非极大值抑制\n",
    "![title](./data/canny_3.png)\n",
    "\n",
    "![title](./data/canny_6.png)\n",
    "\n",
    "4.双阈值检测\n",
    "![title](./data/canny_5.png)"
   ]
  },
  {
   "cell_type": "code",
   "execution_count": 7,
   "metadata": {},
   "outputs": [],
   "source": [
    "img = cv2.imread('./data/lena.jpg', cv2.IMREAD_GRAYSCALE)\n",
    "\n",
    "# 较小的 min 会增加一些边缘 较大的 max 会抑制一些边缘\n",
    "v1 = cv2.Canny(img, 80, 150)\n",
    "v2 = cv2.Canny(img, 50, 100)\n",
    "\n",
    "res = np.hstack((v1, v2))\n",
    "cv_show('res', res)"
   ]
  },
  {
   "cell_type": "code",
   "execution_count": 8,
   "metadata": {},
   "outputs": [],
   "source": [
    "img = cv2.imread('./data/car.png', cv2.IMREAD_GRAYSCALE)\n",
    "\n",
    "v1 = cv2.Canny(img, 120, 250)\n",
    "v2 = cv2.Canny(img, 50, 100)\n",
    "\n",
    "res = np.hstack((v1, v2))\n",
    "cv_show('res', res)"
   ]
  },
  {
   "cell_type": "code",
   "execution_count": null,
   "metadata": {},
   "outputs": [],
   "source": []
  }
 ],
 "metadata": {
  "kernelspec": {
   "display_name": "Python 3",
   "language": "python",
   "name": "python3"
  },
  "language_info": {
   "codemirror_mode": {
    "name": "ipython",
    "version": 3
   },
   "file_extension": ".py",
   "mimetype": "text/x-python",
   "name": "python",
   "nbconvert_exporter": "python",
   "pygments_lexer": "ipython3",
   "version": "3.8.5"
  }
 },
 "nbformat": 4,
 "nbformat_minor": 4
}
