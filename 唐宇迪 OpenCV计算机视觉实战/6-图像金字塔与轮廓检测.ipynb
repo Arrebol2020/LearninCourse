{
 "cells": [
  {
   "cell_type": "code",
   "execution_count": 1,
   "metadata": {},
   "outputs": [],
   "source": [
    "import cv2  # openvv 读取的格式是BGR\n",
    "import matplotlib.pyplot as plt\n",
    "import numpy as np\n",
    "# 当调用 matplotlib.pyplot 的绘图函数 plot() 进行绘图的时候，或者生成一个 figure 画布的时候，可以直接在你的 python console 里面生成图像\n",
    "%matplotlib inline  "
   ]
  },
  {
   "cell_type": "code",
   "execution_count": 2,
   "metadata": {},
   "outputs": [],
   "source": [
    "# 可以定义一个方法专门用于显示图像\n",
    "def cv_show(name, img):\n",
    "    '''\n",
    "    :param name: 窗口名字\n",
    "    :param img: 显示的图像\n",
    "    '''\n",
    "    cv2.imshow(name, img)\n",
    "    cv2.waitKey(0)\n",
    "    cv2.destroyAllWindows()"
   ]
  },
  {
   "cell_type": "markdown",
   "metadata": {},
   "source": [
    "# 图像金字塔\n",
    "\n",
    "- 高斯金字塔\n",
    "- 拉普拉斯金字塔\n",
    "\n",
    "![title](./data/Pyramid_1.png)\n"
   ]
  },
  {
   "cell_type": "markdown",
   "metadata": {},
   "source": [
    "## 高斯金字塔\n",
    "向下采样方法（缩小）\n",
    "![title](./data/Pyramid_2.png)\n",
    "\n",
    "向上采样方法（放大）\n",
    "![title](./data/Pyramid_3.png)"
   ]
  },
  {
   "cell_type": "code",
   "execution_count": 17,
   "metadata": {},
   "outputs": [
    {
     "name": "stdout",
     "output_type": "stream",
     "text": [
      "(442, 340, 3)\n"
     ]
    }
   ],
   "source": [
    "img = cv2.imread('./data/AM.png')\n",
    "cv_show('img', img)\n",
    "print(img.shape)"
   ]
  },
  {
   "cell_type": "code",
   "execution_count": 14,
   "metadata": {},
   "outputs": [
    {
     "name": "stdout",
     "output_type": "stream",
     "text": [
      "(884, 680, 3)\n"
     ]
    }
   ],
   "source": [
    "# 执行上采样，放大图像\n",
    "up = cv2.pyrUp(img)\n",
    "cv_show('up', up)\n",
    "print(up.shape)"
   ]
  },
  {
   "cell_type": "code",
   "execution_count": 15,
   "metadata": {},
   "outputs": [
    {
     "name": "stdout",
     "output_type": "stream",
     "text": [
      "(221, 170, 3)\n"
     ]
    }
   ],
   "source": [
    "# 执行下采样，缩小图像\n",
    "down = cv2.pyrDown(img)\n",
    "cv_show('down', down)\n",
    "print(down.shape)"
   ]
  },
  {
   "cell_type": "code",
   "execution_count": 19,
   "metadata": {},
   "outputs": [],
   "source": [
    "# 先进行上采样，再进行下采样\n",
    "# 会发现图像和原图相比，虽然大小一样，但是图像更模糊\n",
    "up = cv2.pyrUp(img)\n",
    "up_down = cv2.pyrDown(up)\n",
    "cv_show('up_down', np.hstack((img, up_down)))  # 与原图进行比较"
   ]
  },
  {
   "cell_type": "code",
   "execution_count": 18,
   "metadata": {},
   "outputs": [],
   "source": [
    "# 先进行下采样，再进行上采样\n",
    "# 会发现图像和原图相比，虽然大小一样，但是图像更模糊\n",
    "down = cv2.pyrDown(img)\n",
    "down_up = cv2.pyrUp(down)\n",
    "cv_show('up_down', np.hstack((img, down_up)))  # 与原图进行比较"
   ]
  },
  {
   "cell_type": "markdown",
   "metadata": {},
   "source": [
    "## 拉普拉斯金字塔\n",
    "就是图像减去先经过下采样再经过上采样的图\n",
    "![title](./data/Pyramid_4.png)"
   ]
  },
  {
   "cell_type": "code",
   "execution_count": 20,
   "metadata": {},
   "outputs": [],
   "source": [
    "down = cv2.pyrDown(img)\n",
    "down_up = cv2.pyrUp(down)\n",
    "lpls = img-down_up\n",
    "cv_show('lpls', lpls)"
   ]
  },
  {
   "cell_type": "markdown",
   "metadata": {},
   "source": [
    "# 轮廓检测\n",
    "\n",
    "**cv2.findContours(img, mode, method)该函数会返回三个值，img(OpenCV3, CV2没有该返回值)，轮廓和每个轮廓的属性**\n",
    "- mode: 轮廓检索模式\n",
    "  - RETR_EXTERNAL: 只检索最外面的轮廓\n",
    "  - RETR_LIST: 检索所有的轮廓，并将其保存到一条链表当中\n",
    "  - RETR_CCOMP: 检索所有的轮廓，并将他们朱志伟两层：顶层是各部分的外部边界，第二层是空洞的边界\n",
    "  - RETR_TREE: 检索所有的轮廓，并重构嵌套轮廓的整个层次\n",
    "- method：轮廓逼近方法\n",
    "  - CHAIN_APPROX_NONE：以Freeman链码的方式输出轮廓，所有其他方法输出多边形（顶点的序列），下图左图\n",
    "  - CHAIN_APPROX_SIMPLE:压缩水平的、垂直的和斜的部分，也就是，函数只保留他们的终点部分，下图右图\n",
    "  \n",
    "  \n",
    "![title](./data/chain.png)"
   ]
  },
  {
   "cell_type": "markdown",
   "metadata": {},
   "source": [
    "> 为了更高的准确率，使用二值图像"
   ]
  },
  {
   "cell_type": "code",
   "execution_count": 21,
   "metadata": {},
   "outputs": [],
   "source": [
    "img = cv2.imread('./data/contours.png')\n",
    "gray = cv2.cvtColor(img, cv2.COLOR_BGR2GRAY)\n",
    "ret, thresh = cv2.threshold(gray, 127, 255, cv2.THRESH_BINARY)\n",
    "cv_show('thresh', thresh)"
   ]
  },
  {
   "cell_type": "code",
   "execution_count": 22,
   "metadata": {},
   "outputs": [],
   "source": [
    "contours, hierarchy = cv2.findContours(thresh, cv2.RETR_TREE,\n",
    "                                              cv2.CHAIN_APPROX_NONE)"
   ]
  },
  {
   "cell_type": "code",
   "execution_count": 25,
   "metadata": {},
   "outputs": [],
   "source": [
    "# 绘制轮廓\n",
    "# 传入绘制图像，轮廓，轮廓索引，颜色模式，线条厚度\n",
    "# 注意需要 copy ，否则原图会发生改变\n",
    "\n",
    "draw_img = img.copy()\n",
    "res = cv2.drawContours(draw_img, contours, -1, (0, 0, 255), 2)\n",
    "cv_show('res', res)"
   ]
  },
  {
   "cell_type": "code",
   "execution_count": 26,
   "metadata": {},
   "outputs": [
    {
     "data": {
      "text/plain": [
       "8500.5"
      ]
     },
     "execution_count": 26,
     "metadata": {},
     "output_type": "execute_result"
    }
   ],
   "source": [
    "# 轮廓特征\n",
    "cnt = contours[0]\n",
    "# 面积\n",
    "cv2.contourArea(cnt)"
   ]
  },
  {
   "cell_type": "code",
   "execution_count": 30,
   "metadata": {},
   "outputs": [
    {
     "data": {
      "text/plain": [
       "437.9482651948929"
      ]
     },
     "execution_count": 30,
     "metadata": {},
     "output_type": "execute_result"
    }
   ],
   "source": [
    "# 周长，True表示闭合的\n",
    "cv2.arcLength(cnt, True)"
   ]
  },
  {
   "cell_type": "markdown",
   "metadata": {},
   "source": [
    "# 轮廓近似\n",
    "![title](./data/contours3.png)"
   ]
  },
  {
   "cell_type": "code",
   "execution_count": 27,
   "metadata": {},
   "outputs": [],
   "source": [
    "img = cv2.imread('./data/contours2.png')\n",
    "\n",
    "gray = cv2.cvtColor(img, cv2.COLOR_BGR2GRAY)\n",
    "ret, thresh = cv2.threshold(gray, 127, 255, cv2.THRESH_BINARY)\n",
    "contours, hierarchy = cv2.findContours(thresh, cv2.RETR_TREE,\n",
    "                                      cv2.CHAIN_APPROX_NONE)\n",
    "cnt = contours[0]\n",
    "\n",
    "draw_img = img.copy()\n",
    "res = cv2.drawContours(draw_img, [cnt], -1, (0, 0, 255), 2)\n",
    "cv_show('res', res)"
   ]
  },
  {
   "cell_type": "code",
   "execution_count": 28,
   "metadata": {},
   "outputs": [],
   "source": [
    "epsilon = 0.15*cv2.arcLength(cnt, True)\n",
    "approx = cv2.approxPolyDP(cnt, epsilon, True)\n",
    "\n",
    "draw_img = img.copy()\n",
    "res = cv2.drawContours(draw_img, [approx], -1, (0, 0, 255), 2)\n",
    "cv_show(\"res\", res)"
   ]
  },
  {
   "cell_type": "code",
   "execution_count": 29,
   "metadata": {},
   "outputs": [],
   "source": [
    "# 边界矩形\n",
    "img = cv2.imread('./data/contours.png')\n",
    "\n",
    "gray = cv2.cvtColor(img, cv2.COLOR_BGR2GRAY)\n",
    "ret, thresh = cv2.threshold(gray, 127, 255, cv2.THRESH_BINARY)\n",
    "contours, hierarchy = cv2.findContours(thresh, cv2.RETR_TREE, cv2.CHAIN_APPROX_NONE)\n",
    "cnt = contours[0]\n",
    "\n",
    "x,y,w,h = cv2.boundingRect(cnt)\n",
    "img = cv2.rectangle(img,(x,y),(x+w,y+h),(0,255,0),2)\n",
    "cv_show(\"img\", img)"
   ]
  },
  {
   "cell_type": "code",
   "execution_count": 39,
   "metadata": {},
   "outputs": [
    {
     "name": "stdout",
     "output_type": "stream",
     "text": [
      "轮廓面积与边界矩形比 0.5154317244724715\n"
     ]
    }
   ],
   "source": [
    "area = cv2.contourArea(cnt)\n",
    "x, y, w, h = cv2.boundingRect(cnt)\n",
    "rect_area = w * h\n",
    "extent = float(area) / rect_area\n",
    "print ('轮廓面积与边界矩形比',extent)"
   ]
  },
  {
   "cell_type": "code",
   "execution_count": 43,
   "metadata": {},
   "outputs": [],
   "source": [
    "# 外接圆\n",
    "img = cv2.imread('./data/contours.png')\n",
    "\n",
    "gray = cv2.cvtColor(img, cv2.COLOR_BGR2GRAY)\n",
    "ret, thresh = cv2.threshold(gray, 127, 255, cv2.THRESH_BINARY)\n",
    "contours, hierarchy = cv2.findContours(thresh, cv2.RETR_TREE, cv2.CHAIN_APPROX_NONE)\n",
    "cnt = contours[0]\n",
    "\n",
    "(x,y),radius = cv2.minEnclosingCircle(cnt) \n",
    "center = (int(x),int(y)) \n",
    "radius = int(radius) \n",
    "img = cv2.circle(img,center,radius,(0,255,0),2)\n",
    "cv_show(\"img\", img)"
   ]
  },
  {
   "cell_type": "code",
   "execution_count": null,
   "metadata": {},
   "outputs": [],
   "source": []
  }
 ],
 "metadata": {
  "kernelspec": {
   "display_name": "Python 3",
   "language": "python",
   "name": "python3"
  },
  "language_info": {
   "codemirror_mode": {
    "name": "ipython",
    "version": 3
   },
   "file_extension": ".py",
   "mimetype": "text/x-python",
   "name": "python",
   "nbconvert_exporter": "python",
   "pygments_lexer": "ipython3",
   "version": "3.8.5"
  }
 },
 "nbformat": 4,
 "nbformat_minor": 4
}
